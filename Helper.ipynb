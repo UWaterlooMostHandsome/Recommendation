{
 "cells": [
  {
   "cell_type": "code",
   "execution_count": 12,
   "metadata": {},
   "outputs": [],
   "source": [
    "import numpy as np\n",
    "from scipy.stats import kstest\n",
    "import pandas as pd\n",
    "import math\n",
    "import random\n",
    "import scipy.stats as stats\n",
    "import matplotlib.pyplot as plt"
   ]
  },
  {
   "attachments": {},
   "cell_type": "markdown",
   "metadata": {},
   "source": [
    "$$\n",
    "Random \\space number \\space generator\n",
    "$$"
   ]
  },
  {
   "cell_type": "code",
   "execution_count": null,
   "metadata": {},
   "outputs": [],
   "source": []
  },
  {
   "cell_type": "code",
   "execution_count": null,
   "metadata": {},
   "outputs": [],
   "source": []
  },
  {
   "cell_type": "code",
   "execution_count": 13,
   "metadata": {},
   "outputs": [
    {
     "name": "stdout",
     "output_type": "stream",
     "text": [
      "123457\n",
      "Ro =  5.7489145573922035e-05\n",
      "2074941799\n",
      "Ro =  0.9662200696609077\n",
      "559872160\n",
      "Ro =  0.2607107908747675\n",
      "1645535613\n",
      "Ro =  0.7662622322171285\n",
      "The longest possible period is 2147483646\n"
     ]
    }
   ],
   "source": [
    "def is_power_of_two(m):\n",
    "    return (m != 0) and (m & (m - 1) == 0)\n",
    "\n",
    "def is_prime(n):\n",
    "    if n <= 1:\n",
    "        return False\n",
    "    elif n == 2:\n",
    "        return True\n",
    "    else:\n",
    "        for i in range(2, int(n**0.5)+1):\n",
    "            if n % i == 0:\n",
    "                return False\n",
    "        return True\n",
    "\n",
    "#Needed\n",
    "X0 = 123457\n",
    "a = 16807\n",
    "c = 0\n",
    "m = 2**31-1\n",
    "num_of_number_gen = 3\n",
    "\n",
    "\n",
    "\n",
    "R0 = X0/m\n",
    "print(X0)\n",
    "print('Ro = ', R0)\n",
    "for i in range(num_of_number_gen):\n",
    "    X0 = (a*X0+c)%(m)\n",
    "    print(X0)\n",
    "    R0 = X0/(m)           # m + 1 for large number of m\n",
    "    print('Ro = ', R0)\n",
    "\n",
    "if is_power_of_two(m) and c != 0 :\n",
    "    print('The longest possible period is', m)\n",
    "elif is_power_of_two(m) and c == 0 :\n",
    "    print('The longest possible period is', m/4)\n",
    "elif is_prime(m) and c == 0:\n",
    "    print('The longest possible period is', m-1)\n",
    "    "
   ]
  },
  {
   "attachments": {},
   "cell_type": "markdown",
   "metadata": {},
   "source": [
    "$$\n",
    "Chi-Square\n",
    "$$"
   ]
  },
  {
   "cell_type": "code",
   "execution_count": null,
   "metadata": {},
   "outputs": [],
   "source": []
  },
  {
   "attachments": {},
   "cell_type": "markdown",
   "metadata": {},
   "source": [
    "$$\n",
    "K-S \\space Test\n",
    "$$"
   ]
  },
  {
   "cell_type": "code",
   "execution_count": null,
   "metadata": {},
   "outputs": [],
   "source": []
  },
  {
   "cell_type": "code",
   "execution_count": 14,
   "metadata": {},
   "outputs": [
    {
     "name": "stdout",
     "output_type": "stream",
     "text": [
      "2.2: 0.16666666666666666\n",
      "3.1: 0.3333333333333333\n",
      "3.5: 0.5\n",
      "4.0: 0.6666666666666666\n",
      "4.8: 0.8333333333333334\n",
      "5.6: 1.0\n",
      "D value: 0.12941862235228357\n",
      "Critical value: 0.5544414477847298\n",
      "D value < Critical value ==  True\n"
     ]
    }
   ],
   "source": [
    "def ks_critical_value(alpha, n):\n",
    "    \"\"\"计算K-S检验的临界值（对于任意样本量）\"\"\"\n",
    "    # 计算逆Kolmogorov-Smirnov分布值\n",
    "    ks_stat = stats.kstwobign.ppf(1 - alpha)\n",
    "    return ks_stat / np.sqrt(n)\n",
    "\n",
    "def ecdf(data):\n",
    "    \"\"\"计算给定数据的ECDF\"\"\"\n",
    "    n = len(data)\n",
    "    x = np.sort(data)\n",
    "    y = np.arange(1, n + 1) / n\n",
    "    return x, y\n",
    "\n",
    "# 示例数据\n",
    "data = [2.2, 3.1, 3.5, 4.0, 4.8, 5.6]\n",
    "\n",
    "# 计算ECDF\n",
    "x, y = ecdf(data)\n",
    "\n",
    "# 输出结果\n",
    "for xi, yi in zip(x, y):\n",
    "    print(f\"{xi}: {yi}\")\n",
    "\n",
    "# 计算样本均值和标准差\n",
    "mean = np.mean(data)\n",
    "std = np.std(data)\n",
    "\n",
    "# 计算理论正态分布的CDF\n",
    "cdf_theoretical = stats.norm.cdf(x, loc=mean, scale=std)\n",
    "\n",
    "# 计算ECDF与CDF之间的差异（绝对值）\n",
    "differences = np.abs(y - cdf_theoretical)\n",
    "\n",
    "# 找到最大差异（D值）\n",
    "D = np.max(differences)\n",
    "\n",
    "# 输出D值\n",
    "print(\"D value:\", D)\n",
    "\n",
    "\n",
    "# 样本量和显著性水平\n",
    "n = 6                                   #Needed\n",
    "alpha = 0.05                            #Needed\n",
    "\n",
    "# 计算临界值\n",
    "critical_value = ks_critical_value(alpha, n)\n",
    "\n",
    "# 输出临界值\n",
    "print(\"Critical value:\", critical_value)\n",
    "\n",
    "print('D value < Critical value == ', D < critical_value)"
   ]
  },
  {
   "attachments": {},
   "cell_type": "markdown",
   "metadata": {},
   "source": [
    "$$\n",
    "自相关系数\n",
    "$$"
   ]
  },
  {
   "cell_type": "code",
   "execution_count": 15,
   "metadata": {},
   "outputs": [
    {
     "name": "stdout",
     "output_type": "stream",
     "text": [
      "自相关系数: 0.9078341013824883\n"
     ]
    }
   ],
   "source": [
    "# 创建一组示例数据\n",
    "data = np.array([1, 2, 3, 4, 5, 16, 17, 18, 19, 20])\n",
    "\n",
    "# 将数据转换为Series对象\n",
    "data_series = pd.Series(data)\n",
    "\n",
    "# 计算自相关系数\n",
    "acf = data_series.autocorr()\n",
    "\n",
    "# 输出结果\n",
    "print('自相关系数:', acf)"
   ]
  },
  {
   "attachments": {},
   "cell_type": "markdown",
   "metadata": {},
   "source": [
    "$$\n",
    "Inverse \\space Transform\n",
    "$$"
   ]
  },
  {
   "cell_type": "code",
   "execution_count": 32,
   "metadata": {},
   "outputs": [
    {
     "data": {
      "image/png": "[encoded data removed]",
      "text/plain": [
       "<Figure size 640x480 with 1 Axes>"
      ]
     },
     "metadata": {},
     "output_type": "display_data"
    },
    {
     "name": "stdout",
     "output_type": "stream",
     "text": [
      "X value =  0.2533471031357997\n"
     ]
    }
   ],
   "source": [
    "# define the normal distribution\n",
    "mu = 0\n",
    "sigma = 1\n",
    "x = np.linspace(stats.norm.ppf(0.001, mu, sigma), stats.norm.ppf(0.999, mu, sigma), 100)\n",
    "\n",
    "perc = 0.6\n",
    "\n",
    "# calculate the cdf and ppf values\n",
    "y = stats.norm.cdf(x, mu, sigma)\n",
    "x_ppf = stats.norm.ppf(y, mu, sigma)\n",
    "\n",
    "# plot the ppf curve and the point based on given y\n",
    "fig, ax = plt.subplots()\n",
    "ax.plot(x_ppf, y, label='ppf')\n",
    "ax.axvline(x=stats.norm.ppf(perc, mu, sigma), linestyle='--', color='gray')  # example y-value\n",
    "ax.scatter(stats.norm.ppf(perc, mu, sigma), perc, color='red', label='point')  # example point\n",
    "ax.legend()\n",
    "plt.show()\n",
    "\n",
    "print('X value = ', stats.norm.ppf(perc, mu, sigma))\n"
   ]
  },
  {
   "attachments": {},
   "cell_type": "markdown",
   "metadata": {},
   "source": [
    "$$\n",
    "Q-Q\\space plot\n",
    "$$"
   ]
  },
  {
   "cell_type": "code",
   "execution_count": 17,
   "metadata": {},
   "outputs": [
    {
     "data": {
      "image/png": "[encoded data removed]",
      "text/plain": [
       "<Figure size 640x480 with 1 Axes>"
      ]
     },
     "metadata": {},
     "output_type": "display_data"
    }
   ],
   "source": [
    "# Generate a sample of normally distributed data\n",
    "mu, sigma = 0, 1\n",
    "sample = np.random.normal(mu, sigma, 100)\n",
    "\n",
    "# Create a normal distribution object\n",
    "norm_dist = stats.norm(mu, sigma)\n",
    "\n",
    "# Generate the theoretical quantiles\n",
    "theoretical_quantiles = norm_dist.ppf(np.linspace(0.01, 0.99, 99))\n",
    "\n",
    "# Generate the sample quantiles\n",
    "sample_quantiles = np.quantile(sample, np.linspace(0.01, 0.99, 99))\n",
    "\n",
    "# Create the Q-Q plot\n",
    "plt.plot(theoretical_quantiles, sample_quantiles, 'o')\n",
    "plt.plot(theoretical_quantiles, theoretical_quantiles, '-')\n",
    "plt.xlabel('Theoretical Quantiles')\n",
    "plt.ylabel('Sample Quantiles')\n",
    "plt.title('Normal Q-Q Plot')\n",
    "plt.show()"
   ]
  },
  {
   "attachments": {},
   "cell_type": "markdown",
   "metadata": {},
   "source": [
    "$$\n",
    "Confidence \\space interval\n",
    "$$"
   ]
  },
  {
   "cell_type": "code",
   "execution_count": 18,
   "metadata": {},
   "outputs": [
    {
     "name": "stdout",
     "output_type": "stream",
     "text": [
      "Sample Mean: 9.940048412794477\n",
      "Sample Standard Deviation: 1.872081697868539\n",
      "t_crit: 1.980099876426006\n",
      "Confidence Interval: (9.601655490336292, 10.278441335252662)\n"
     ]
    }
   ],
   "source": [
    "# Generate a random sample of data\n",
    "data = np.random.normal(loc=10, scale=2, size=120)\n",
    "\n",
    "# Calculate the sample mean and standard deviation\n",
    "sample_mean = np.mean(data)\n",
    "sample_std = np.std(data, ddof=1)\n",
    "\n",
    "# Set the confidence level and calculate the critical value\n",
    "conf_level = 0.95\n",
    "df = len(data) - 1\n",
    "t_crit = stats.t.ppf((1 + conf_level) / 2, df)\n",
    "\n",
    "# Calculate the margin of error and the confidence interval\n",
    "margin_of_error = t_crit * sample_std / np.sqrt(len(data))\n",
    "conf_interval = sample_mean - margin_of_error, sample_mean + margin_of_error\n",
    "\n",
    "print(\"Sample Mean:\", sample_mean)\n",
    "print(\"Sample Standard Deviation:\", sample_std)\n",
    "print('t_crit:',t_crit)\n",
    "print(\"Confidence Interval:\", conf_interval)"
   ]
  },
  {
   "cell_type": "code",
   "execution_count": 19,
   "metadata": {},
   "outputs": [
    {
     "name": "stdout",
     "output_type": "stream",
     "text": [
      "Sample Mean: 5.8\n",
      "Sample Standard Deviation: 1.6\n",
      "t_crit: 1.980099876426006\n",
      "\n",
      "margin_of_error: 0.28921209824845745\n",
      "Confidence Interval: (5.510787901751542, 6.089212098248457)\n",
      "\n",
      "margin_of_risk: 3.1813330807330322\n",
      "Prediction Interval: (2.6186669192669676, 8.981333080733032)\n"
     ]
    }
   ],
   "source": [
    "sample_mean = 5.8               #Needed\n",
    "sample_std = 1.6                #Needed\n",
    "data_len = 120                  #Needed\n",
    "conf_level = 0.95               #Needed\n",
    "\n",
    "\n",
    "t_crit = stats.t.ppf((1 + conf_level) / 2, data_len -1)\n",
    "\n",
    "\n",
    "margin_of_error = t_crit * sample_std / np.sqrt(data_len)\n",
    "margin_of_risk = t_crit * sample_std * np.sqrt(1+1/data_len)\n",
    "\n",
    "conf_interval = sample_mean - margin_of_error, sample_mean + margin_of_error\n",
    "predict_interval = sample_mean - margin_of_risk, sample_mean + margin_of_risk\n",
    "\n",
    "print(\"Sample Mean:\", sample_mean)\n",
    "print(\"Sample Standard Deviation:\", sample_std)\n",
    "print('t_crit:',t_crit)\n",
    "print()\n",
    "\n",
    "print(\"margin_of_error:\", margin_of_error)\n",
    "print(\"Confidence Interval:\", conf_interval)\n",
    "print()\n",
    "print('margin_of_risk:',margin_of_risk)\n",
    "print(\"Prediction Interval:\", predict_interval)\n",
    "\n"
   ]
  },
  {
   "cell_type": "code",
   "execution_count": null,
   "metadata": {},
   "outputs": [],
   "source": [
    "data = np.random.exponential()"
   ]
  }
 ],
 "metadata": {
  "kernelspec": {
   "display_name": "my-env",
   "language": "python",
   "name": "python3"
  },
  "language_info": {
   "codemirror_mode": {
    "name": "ipython",
    "version": 3
   },
   "file_extension": ".py",
   "mimetype": "text/x-python",
   "name": "python",
   "nbconvert_exporter": "python",
   "pygments_lexer": "ipython3",
   "version": "3.10.8"
  },
  "orig_nbformat": 4
 },
 "nbformat": 4,
 "nbformat_minor": 2
}
